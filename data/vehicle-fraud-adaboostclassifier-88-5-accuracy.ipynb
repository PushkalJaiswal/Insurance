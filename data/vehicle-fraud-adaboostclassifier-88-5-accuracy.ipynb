{
 "cells": [
  {
   "cell_type": "code",
   "execution_count": 1,
   "id": "a4af57c7",
   "metadata": {
    "_cell_guid": "b1076dfc-b9ad-4769-8c92-a6c4dae69d19",
    "_uuid": "8f2839f25d086af736a60e9eeb907d3b93b6e0e5",
    "execution": {
     "iopub.execute_input": "2022-01-15T20:28:10.098967Z",
     "iopub.status.busy": "2022-01-15T20:28:10.098372Z",
     "iopub.status.idle": "2022-01-15T20:28:10.117311Z",
     "shell.execute_reply": "2022-01-15T20:28:10.118050Z",
     "shell.execute_reply.started": "2022-01-15T19:02:46.698638Z"
    },
    "papermill": {
     "duration": 0.041368,
     "end_time": "2022-01-15T20:28:10.118411",
     "exception": false,
     "start_time": "2022-01-15T20:28:10.077043",
     "status": "completed"
    },
    "tags": []
   },
   "outputs": [
    {
     "name": "stdout",
     "output_type": "stream",
     "text": [
      "/kaggle/input/vehicle-claim-fraud-detection/fraud_oracle.csv\n"
     ]
    }
   ],
   "source": [
    "# This Python 3 environment comes with many helpful analytics libraries installed\n",
    "# It is defined by the kaggle/python Docker image: https://github.com/kaggle/docker-python\n",
    "# For example, here's several helpful packages to load\n",
    "\n",
    "import numpy as np # linear algebra\n",
    "import pandas as pd # data processing, CSV file I/O (e.g. pd.read_csv)\n",
    "\n",
    "# Input data files are available in the read-only \"../input/\" directory\n",
    "# For example, running this (by clicking run or pressing Shift+Enter) will list all files under the input directory\n",
    "\n",
    "import os\n",
    "for dirname, _, filenames in os.walk('/kaggle/input'):\n",
    "    for filename in filenames:\n",
    "        print(os.path.join(dirname, filename))\n",
    "\n",
    "# You can write up to 20GB to the current directory (/kaggle/working/) that gets preserved as output when you create a version using \"Save & Run All\" \n",
    "# You can also write temporary files to /kaggle/temp/, but they won't be saved outside of the current session"
   ]
  },
  {
   "cell_type": "markdown",
   "id": "74ec05a4",
   "metadata": {
    "papermill": {
     "duration": 0.01037,
     "end_time": "2022-01-15T20:28:10.140288",
     "exception": false,
     "start_time": "2022-01-15T20:28:10.129918",
     "status": "completed"
    },
    "tags": []
   },
   "source": [
    "Preliminary investigation into null values and the counts of Fraud cases in the data.\n",
    "\n",
    "It's clear that the number of cases resulting in a non-fraud outcome vastly outweighs the cases of a fraud outcome. To prevent the model from becoming too biased to make an accurate prediction, I've decided to reduce the size of the dataframe to balance the outcomes with an approximate ratio of (2:1) using a sampler for the non-fraud cases. Though a seemingly a logical step, I'm not too sure if this is the correct approach and would appreciate any feedback regarding this (or any other aspect of this notebook for that matter). "
   ]
  },
  {
   "cell_type": "code",
   "execution_count": 2,
   "id": "860ea1b9",
   "metadata": {
    "execution": {
     "iopub.execute_input": "2022-01-15T20:28:10.175049Z",
     "iopub.status.busy": "2022-01-15T20:28:10.174039Z",
     "iopub.status.idle": "2022-01-15T20:28:10.978490Z",
     "shell.execute_reply": "2022-01-15T20:28:10.978938Z",
     "shell.execute_reply.started": "2022-01-15T20:14:21.971567Z"
    },
    "papermill": {
     "duration": 0.82854,
     "end_time": "2022-01-15T20:28:10.979139",
     "exception": false,
     "start_time": "2022-01-15T20:28:10.150599",
     "status": "completed"
    },
    "tags": []
   },
   "outputs": [
    {
     "name": "stdout",
     "output_type": "stream",
     "text": [
      "<class 'pandas.core.frame.DataFrame'>\n",
      "RangeIndex: 15420 entries, 0 to 15419\n",
      "Data columns (total 33 columns):\n",
      " #   Column                Non-Null Count  Dtype \n",
      "---  ------                --------------  ----- \n",
      " 0   Month                 15420 non-null  object\n",
      " 1   WeekOfMonth           15420 non-null  int64 \n",
      " 2   DayOfWeek             15420 non-null  object\n",
      " 3   Make                  15420 non-null  object\n",
      " 4   AccidentArea          15420 non-null  object\n",
      " 5   DayOfWeekClaimed      15420 non-null  object\n",
      " 6   MonthClaimed          15420 non-null  object\n",
      " 7   WeekOfMonthClaimed    15420 non-null  int64 \n",
      " 8   Sex                   15420 non-null  object\n",
      " 9   MaritalStatus         15420 non-null  object\n",
      " 10  Age                   15420 non-null  int64 \n",
      " 11  Fault                 15420 non-null  object\n",
      " 12  PolicyType            15420 non-null  object\n",
      " 13  VehicleCategory       15420 non-null  object\n",
      " 14  VehiclePrice          15420 non-null  object\n",
      " 15  FraudFound_P          15420 non-null  int64 \n",
      " 16  PolicyNumber          15420 non-null  int64 \n",
      " 17  RepNumber             15420 non-null  int64 \n",
      " 18  Deductible            15420 non-null  int64 \n",
      " 19  DriverRating          15420 non-null  int64 \n",
      " 20  Days_Policy_Accident  15420 non-null  object\n",
      " 21  Days_Policy_Claim     15420 non-null  object\n",
      " 22  PastNumberOfClaims    15420 non-null  object\n",
      " 23  AgeOfVehicle          15420 non-null  object\n",
      " 24  AgeOfPolicyHolder     15420 non-null  object\n",
      " 25  PoliceReportFiled     15420 non-null  object\n",
      " 26  WitnessPresent        15420 non-null  object\n",
      " 27  AgentType             15420 non-null  object\n",
      " 28  NumberOfSuppliments   15420 non-null  object\n",
      " 29  AddressChange_Claim   15420 non-null  object\n",
      " 30  NumberOfCars          15420 non-null  object\n",
      " 31  Year                  15420 non-null  int64 \n",
      " 32  BasePolicy            15420 non-null  object\n",
      "dtypes: int64(9), object(24)\n",
      "memory usage: 3.9+ MB\n"
     ]
    },
    {
     "data": {
      "image/png": "[encoded data removed]",
      "text/plain": [
       "<Figure size 432x288 with 1 Axes>"
      ]
     },
     "metadata": {
      "needs_background": "light"
     },
     "output_type": "display_data"
    },
    {
     "data": {
      "image/png": "[encoded data removed]",
      "text/plain": [
       "<Figure size 432x288 with 1 Axes>"
      ]
     },
     "metadata": {
      "needs_background": "light"
     },
     "output_type": "display_data"
    }
   ],
   "source": [
    "import warnings\n",
    "warnings.filterwarnings(\"ignore\")\n",
    "\n",
    "import matplotlib.pyplot as plt\n",
    "\n",
    "df = pd.read_csv('/kaggle/input/vehicle-claim-fraud-detection/fraud_oracle.csv')\n",
    "df.info()\n",
    "columns = df.columns\n",
    "\n",
    "grouped_df = df.groupby(['FraudFound_P']).count()\n",
    "plt.bar(grouped_df.index, height = grouped_df['Month'])\n",
    "plt.title('Fraud Count (Whole Dataset)')\n",
    "plt.ylabel('Count')\n",
    "plt.xlabel('Classifier')\n",
    "plt.show()\n",
    "\n",
    "df_zero = df[df['FraudFound_P']==0]\n",
    "df_zero_sample = df_zero.sample(n=2000)\n",
    "\n",
    "df_ones = df[df['FraudFound_P']==1]\n",
    "df_ones_sample = df_ones.sample(n=len(df_ones))\n",
    "\n",
    "df_new = pd.concat([df_zero_sample,df_ones_sample])\n",
    "\n",
    "grouped_df = df_new.groupby(['FraudFound_P']).count()\n",
    "plt.bar(grouped_df.index, height = grouped_df['Month'])\n",
    "plt.title('Fraud Count (Ratio 2:1)')\n",
    "plt.ylabel('Count')\n",
    "plt.xlabel('Classifier')\n",
    "plt.show()"
   ]
  },
  {
   "cell_type": "markdown",
   "id": "dd50c280",
   "metadata": {
    "papermill": {
     "duration": 0.011702,
     "end_time": "2022-01-15T20:28:11.003343",
     "exception": false,
     "start_time": "2022-01-15T20:28:10.991641",
     "status": "completed"
    },
    "tags": []
   },
   "source": [
    "Gathering columns with discrete data to transform using sklearn's LabelEncoder.  "
   ]
  },
  {
   "cell_type": "code",
   "execution_count": 3,
   "id": "ce7ed0e6",
   "metadata": {
    "execution": {
     "iopub.execute_input": "2022-01-15T20:28:11.034301Z",
     "iopub.status.busy": "2022-01-15T20:28:11.033638Z",
     "iopub.status.idle": "2022-01-15T20:28:11.938213Z",
     "shell.execute_reply": "2022-01-15T20:28:11.937592Z",
     "shell.execute_reply.started": "2022-01-15T20:14:28.804764Z"
    },
    "papermill": {
     "duration": 0.922771,
     "end_time": "2022-01-15T20:28:11.938353",
     "exception": false,
     "start_time": "2022-01-15T20:28:11.015582",
     "status": "completed"
    },
    "tags": []
   },
   "outputs": [],
   "source": [
    "from sklearn.preprocessing import LabelEncoder\n",
    "\n",
    "discrete_columns = []\n",
    "\n",
    "for col in columns:\n",
    "    if df_new[col].dtypes == 'object':\n",
    "        discrete_columns.append(col)\n",
    "\n",
    "for col in discrete_columns:\n",
    "    enc = LabelEncoder()\n",
    "    values = df_new[col].unique()\n",
    "    enc_fit = enc.fit(values)\n",
    "    df_new[col] = enc_fit.transform(df_new[col])"
   ]
  },
  {
   "cell_type": "markdown",
   "id": "c6b97779",
   "metadata": {
    "papermill": {
     "duration": 0.011565,
     "end_time": "2022-01-15T20:28:11.961852",
     "exception": false,
     "start_time": "2022-01-15T20:28:11.950287",
     "status": "completed"
    },
    "tags": []
   },
   "source": [
    "Splitting the data into training and testing, applying an AdaBoostClassifier with the base_estimator being the DecisionTreeClassifier.\n",
    "\n",
    "* Training Accuracy: 100%\n",
    "* Testing Accuracy: 88.5%"
   ]
  },
  {
   "cell_type": "code",
   "execution_count": 4,
   "id": "888fc144",
   "metadata": {
    "execution": {
     "iopub.execute_input": "2022-01-15T20:28:11.996757Z",
     "iopub.status.busy": "2022-01-15T20:28:11.995975Z",
     "iopub.status.idle": "2022-01-15T20:29:11.052166Z",
     "shell.execute_reply": "2022-01-15T20:29:11.052653Z",
     "shell.execute_reply.started": "2022-01-15T20:14:32.793578Z"
    },
    "papermill": {
     "duration": 59.078809,
     "end_time": "2022-01-15T20:29:11.052826",
     "exception": false,
     "start_time": "2022-01-15T20:28:11.974017",
     "status": "completed"
    },
    "tags": []
   },
   "outputs": [
    {
     "name": "stdout",
     "output_type": "stream",
     "text": [
      "Training Accuracy: 1.0\n",
      "Testing Accuracy: 0.908\n"
     ]
    }
   ],
   "source": [
    "from sklearn.model_selection import train_test_split\n",
    "from sklearn.metrics import accuracy_score, classification_report\n",
    "from sklearn.ensemble import AdaBoostClassifier\n",
    "from sklearn.tree import DecisionTreeClassifier\n",
    "\n",
    "x_train, x_test, y_train, y_test = train_test_split(df_new.drop(['FraudFound_P'], axis=1), df_new['FraudFound_P'], train_size = 0.7, random_state=42)\n",
    "dt_fit = DecisionTreeClassifier(criterion = 'gini', max_depth = 5, min_samples_split =2, min_samples_leaf = 1, random_state = 42)\n",
    "\n",
    "ada_fit = AdaBoostClassifier(base_estimator = dt_fit, n_estimators = 5000, learning_rate = 0.05, random_state=42)\n",
    "ada_fit.fit(x_train, y_train)\n",
    "\n",
    "crosstab_train = pd.crosstab(y_train, ada_fit.predict(x_train), rownames = ['Actual'], colnames = ['Predicted'])\n",
    "accuracy_train = round(accuracy_score(y_train, ada_fit.predict(x_train)),3)\n",
    "classification_train = classification_report(y_train, ada_fit.predict(x_train))\n",
    "\n",
    "crosstab_test = pd.crosstab(y_test, ada_fit.predict(x_test), rownames = ['Actual'], colnames = ['Predicted'])\n",
    "accuracy_test = round(accuracy_score(y_test, ada_fit.predict(x_test)),3)\n",
    "classification_test = classification_report(y_test, ada_fit.predict(x_test))\n",
    "\n",
    "print('Training Accuracy:', accuracy_train)\n",
    "print('Testing Accuracy:', accuracy_test)"
   ]
  },
  {
   "cell_type": "markdown",
   "id": "e89ed102",
   "metadata": {
    "papermill": {
     "duration": 0.012626,
     "end_time": "2022-01-15T20:29:11.078075",
     "exception": false,
     "start_time": "2022-01-15T20:29:11.065449",
     "status": "completed"
    },
    "tags": []
   },
   "source": [
    "Tuning the weights of the DecisionTreeClassifier.\n",
    "\n",
    "The best weights to use look to be {0: 0.5, 1: 0.5} which optimises the count of inaccurate values to a minimum."
   ]
  },
  {
   "cell_type": "code",
   "execution_count": 5,
   "id": "08386e9c",
   "metadata": {
    "execution": {
     "iopub.execute_input": "2022-01-15T20:29:11.118381Z",
     "iopub.status.busy": "2022-01-15T20:29:11.117256Z",
     "iopub.status.idle": "2022-01-15T20:29:11.410364Z",
     "shell.execute_reply": "2022-01-15T20:29:11.409759Z",
     "shell.execute_reply.started": "2022-01-15T20:15:47.548605Z"
    },
    "papermill": {
     "duration": 0.319614,
     "end_time": "2022-01-15T20:29:11.410523",
     "exception": false,
     "start_time": "2022-01-15T20:29:11.090909",
     "status": "completed"
    },
    "tags": []
   },
   "outputs": [
    {
     "name": "stdout",
     "output_type": "stream",
     "text": [
      "\n",
      " Class Weights {0: 0.01, 1: 0.99} Train Accuracy: 1 Test Accuracy: 1 3\n",
      "Test Confusion Matrix \n",
      "\n",
      " Predicted    0    1\n",
      "Actual             \n",
      "0          215  391\n",
      "1            4  267\n",
      "\n",
      " Class Weights {0: 0.1, 1: 0.9} Train Accuracy: 1 Test Accuracy: 1 3\n",
      "Test Confusion Matrix \n",
      "\n",
      " Predicted    0    1\n",
      "Actual             \n",
      "0          325  281\n",
      "1           11  260\n",
      "\n",
      " Class Weights {0: 0.2, 1: 0.8} Train Accuracy: 1 Test Accuracy: 1 3\n",
      "Test Confusion Matrix \n",
      "\n",
      " Predicted    0    1\n",
      "Actual             \n",
      "0          357  249\n",
      "1           11  260\n",
      "\n",
      " Class Weights {0: 0.3, 1: 0.7} Train Accuracy: 1 Test Accuracy: 1 3\n",
      "Test Confusion Matrix \n",
      "\n",
      " Predicted    0    1\n",
      "Actual             \n",
      "0          361  245\n",
      "1           11  260\n",
      "\n",
      " Class Weights {0: 0.4, 1: 0.6} Train Accuracy: 1 Test Accuracy: 1 3\n",
      "Test Confusion Matrix \n",
      "\n",
      " Predicted    0    1\n",
      "Actual             \n",
      "0          401  205\n",
      "1           51  220\n",
      "\n",
      " Class Weights {0: 0.5, 1: 0.5} Train Accuracy: 1 Test Accuracy: 1 3\n",
      "Test Confusion Matrix \n",
      "\n",
      " Predicted    0    1\n",
      "Actual             \n",
      "0          519   87\n",
      "1          169  102\n",
      "               weight  inaccurate sum\n",
      "3    {0: 0.3, 1: 0.7}             256\n",
      "4    {0: 0.4, 1: 0.6}             256\n",
      "5    {0: 0.5, 1: 0.5}             256\n",
      "2    {0: 0.2, 1: 0.8}             260\n",
      "1    {0: 0.1, 1: 0.9}             292\n",
      "0  {0: 0.01, 1: 0.99}             395\n"
     ]
    }
   ],
   "source": [
    "dummy_array = np.empty((6,10))\n",
    "dt_wttune = pd.DataFrame(dummy_array)\n",
    "\n",
    "dt_wttune.columns = ['zero_wght','one_wght','tr_accuracy','tst_accuracy','prec_zero','prec_one','prec_ovll','recl_zero','recl_one','recl_ovll']\n",
    "zero_clwghts = [0.01,0.1,0.2,0.3,0.4,0.5]\n",
    "\n",
    "class_weights = []\n",
    "count_inaccurate = []\n",
    "\n",
    "for i in range(len(zero_clwghts)):\n",
    "    clwght = {0:zero_clwghts[i],1:1.0-zero_clwghts[i]}\n",
    "    dt_fit = DecisionTreeClassifier(criterion = 'gini', max_depth=5, min_samples_split=2, min_samples_leaf=1, random_state=42, class_weight=clwght)\n",
    "    dt_fit.fit(x_train, y_train)\n",
    "    dt_wttune.loc[i,'zero_wght'] = clwght[0]\n",
    "    dt_wttune.loc[i,'one_wght'] = clwght[1]\n",
    "    dt_wttune.loc[i,'tr_accuracy'] = round(accuracy_score(y_train, dt_fit.predict(x_train)),3)\n",
    "    clf_sp = classification_report(y_test, dt_fit.predict(x_test)).split()\n",
    "    dt_wttune.loc[i,'prec_zero'] = clf_sp[5]\n",
    "    dt_wttune.loc[i,'prec_one'] = clf_sp[10]\n",
    "    dt_wttune.loc[i,'prec_ovll'] = clf_sp[25]\n",
    "    dt_wttune.loc[i,'recl_zero'] = clf_sp[6]\n",
    "    dt_wttune.loc[i,'recl_one'] = clf_sp[12]\n",
    "    dt_wttune.loc[i,'recl_ovll'] = clf_sp[26]\n",
    "    crosstab = pd.crosstab(y_test, dt_fit.predict(x_test),rownames = ['Actual'], colnames = ['Predicted'])\n",
    "    inaccurate = crosstab[0][1] + crosstab[1][0]\n",
    "    count_inaccurate.append(inaccurate)\n",
    "    class_weights.append(clwght)\n",
    "    print('\\n Class Weights',clwght, 'Train Accuracy:',round(accuracy_score(y_train, dt_fit.predict(x_train),3)), 'Test Accuracy:',round(accuracy_score(y_test, dt_fit.predict(x_test))),3)\n",
    "    print('Test Confusion Matrix \\n\\n', pd.crosstab(y_test, dt_fit.predict(x_test), rownames = ['Actual'], colnames = ['Predicted']))\n",
    "    \n",
    "weights_df = pd.DataFrame()\n",
    "weights_df['weight'] = class_weights\n",
    "weights_df['inaccurate sum'] = count_inaccurate\n",
    "    \n",
    "print(weights_df.sort_values(['inaccurate sum'], ascending=True))"
   ]
  },
  {
   "cell_type": "markdown",
   "id": "78f3822c",
   "metadata": {
    "papermill": {
     "duration": 0.013585,
     "end_time": "2022-01-15T20:29:11.437745",
     "exception": false,
     "start_time": "2022-01-15T20:29:11.424160",
     "status": "completed"
    },
    "tags": []
   },
   "source": [
    "Initialising the DecisionTreeClassifier with the optimal class weight conditions and fitting the training data using the AdaBoostClassifier.\n",
    "\n",
    "Results don't differ from the initial fitting and result in:\n",
    "\n",
    "* Training Accuracy: 100%\n",
    "* Testing Accuracy: 88.5%\n",
    "\n",
    "I think there are some improvements to be made with regard to this process and model which I may revisit at a later date."
   ]
  },
  {
   "cell_type": "code",
   "execution_count": 6,
   "id": "eddea96a",
   "metadata": {
    "execution": {
     "iopub.execute_input": "2022-01-15T20:29:11.484370Z",
     "iopub.status.busy": "2022-01-15T20:29:11.482494Z",
     "iopub.status.idle": "2022-01-15T20:30:13.347641Z",
     "shell.execute_reply": "2022-01-15T20:30:13.348189Z",
     "shell.execute_reply.started": "2022-01-15T20:16:07.237086Z"
    },
    "papermill": {
     "duration": 61.896896,
     "end_time": "2022-01-15T20:30:13.348359",
     "exception": false,
     "start_time": "2022-01-15T20:29:11.451463",
     "status": "completed"
    },
    "tags": []
   },
   "outputs": [
    {
     "name": "stdout",
     "output_type": "stream",
     "text": [
      "Training Accuracy: 1.0\n",
      "Testing Accuracy: 0.908\n"
     ]
    }
   ],
   "source": [
    "dt_fit = DecisionTreeClassifier(criterion = 'gini', max_depth=5, min_samples_split=2, min_samples_leaf=1, random_state=42, class_weight={0: 0.5, 1: 0.5})\n",
    "\n",
    "ada_fit = AdaBoostClassifier(base_estimator = dt_fit, n_estimators = 5000, learning_rate = 0.05, random_state=42)\n",
    "ada_fit.fit(x_train, y_train)\n",
    "\n",
    "crosstab_train = pd.crosstab(y_train, ada_fit.predict(x_train), rownames = ['Actual'], colnames = ['Predicted'])\n",
    "accuracy_train = round(accuracy_score(y_train, ada_fit.predict(x_train)),3)\n",
    "classification_train = classification_report(y_train, ada_fit.predict(x_train))\n",
    "\n",
    "crosstab_test = pd.crosstab(y_test, ada_fit.predict(x_test), rownames = ['Actual'], colnames = ['Predicted'])\n",
    "accuracy_test = round(accuracy_score(y_test, ada_fit.predict(x_test)),3)\n",
    "classification_test = classification_report(y_test, ada_fit.predict(x_test))\n",
    "\n",
    "print('Training Accuracy:', accuracy_train)\n",
    "print('Testing Accuracy:', accuracy_test)"
   ]
  },
  {
   "cell_type": "markdown",
   "id": "6f61329b",
   "metadata": {
    "papermill": {
     "duration": 0.013641,
     "end_time": "2022-01-15T20:30:13.375858",
     "exception": false,
     "start_time": "2022-01-15T20:30:13.362217",
     "status": "completed"
    },
    "tags": []
   },
   "source": [
    "Feature Importance plot shows the top 3 features being:\n",
    "* RepNumber\n",
    "* MonthClaimed\n",
    "* Make"
   ]
  },
  {
   "cell_type": "code",
   "execution_count": 7,
   "id": "5b06f2bb",
   "metadata": {
    "execution": {
     "iopub.execute_input": "2022-01-15T20:30:13.445578Z",
     "iopub.status.busy": "2022-01-15T20:30:13.415946Z",
     "iopub.status.idle": "2022-01-15T20:30:13.833544Z",
     "shell.execute_reply": "2022-01-15T20:30:13.832974Z",
     "shell.execute_reply.started": "2022-01-15T19:06:38.608430Z"
    },
    "papermill": {
     "duration": 0.443958,
     "end_time": "2022-01-15T20:30:13.833687",
     "exception": false,
     "start_time": "2022-01-15T20:30:13.389729",
     "status": "completed"
    },
    "tags": []
   },
   "outputs": [
    {
     "name": "stdout",
     "output_type": "stream",
     "text": [
      "Variables\n",
      "Month                 0.090516\n",
      "DayOfWeek             0.046522\n",
      "WeekOfMonthClaimed    0.040600\n",
      "DayOfWeekClaimed      0.039238\n",
      "DriverRating          0.034787\n",
      "Name: Importance, dtype: float64\n"
     ]
    },
    {
     "data": {
      "image/png": "[encoded data removed]",
      "text/plain": [
       "<Figure size 1440x720 with 1 Axes>"
      ]
     },
     "metadata": {
      "needs_background": "light"
     },
     "output_type": "display_data"
    }
   ],
   "source": [
    "model_ranks = pd.Series(ada_fit.feature_importances_, index=x_train.columns, name='Importance').sort_values(ascending=False, inplace=False)\n",
    "model_ranks.index.name = 'Variables'\n",
    "top_features = model_ranks.iloc[:5].sort_values(ascending=True, inplace=False)\n",
    "plt.figure(figsize=(20,10))\n",
    "ax = top_features.plot(kind='barh')\n",
    "ax.set_title('Variable Importance Plot')\n",
    "ax.set_xlabel('Mean Decrease in Variance')\n",
    "ax.set_yticklabels(top_features.index, fontsize=13)\n",
    "\n",
    "print(top_features.sort_values(ascending=False))"
   ]
  }
 ],
 "metadata": {
  "kernelspec": {
   "display_name": "Python 3",
   "language": "python",
   "name": "python3"
  },
  "language_info": {
   "codemirror_mode": {
    "name": "ipython",
    "version": 3
   },
   "file_extension": ".py",
   "mimetype": "text/x-python",
   "name": "python",
   "nbconvert_exporter": "python",
   "pygments_lexer": "ipython3",
   "version": "3.7.12"
  },
  "papermill": {
   "default_parameters": {},
   "duration": 134.026518,
   "end_time": "2022-01-15T20:30:14.560290",
   "environment_variables": {},
   "exception": null,
   "input_path": "__notebook__.ipynb",
   "output_path": "__notebook__.ipynb",
   "parameters": {},
   "start_time": "2022-01-15T20:28:00.533772",
   "version": "2.3.3"
  }
 },
 "nbformat": 4,
 "nbformat_minor": 5
}
